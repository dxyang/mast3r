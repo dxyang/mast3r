{
 "cells": [
  {
   "cell_type": "code",
   "execution_count": 3,
   "metadata": {},
   "outputs": [],
   "source": [
    "import os\n",
    "import sys\n",
    "import pickle\n",
    "sys.path.append('/home/dayang/code/mast3r')\n",
    "\n",
    "import torch\n",
    "import numpy as np\n",
    "\n",
    "from utils.plotly_viz_utils import PlotlyScene, plot_points_sequence, plot_transform\n"
   ]
  },
  {
   "cell_type": "code",
   "execution_count": 5,
   "metadata": {},
   "outputs": [],
   "source": [
    "all_poses = pickle.load(open('/home/dayang/code/mast3r/new_poses.pkl', 'rb'))\n",
    "new_poses = all_poses['new']\n",
    "old_poses = all_poses['old']"
   ]
  },
  {
   "cell_type": "code",
   "execution_count": null,
   "metadata": {},
   "outputs": [],
   "source": [
    "xmin, xmax = -50, 50\n",
    "ymin, ymax = -50, 50\n",
    "zmin, zmax = -50, 50\n",
    "pcd_scene = PlotlyScene(\n",
    "    size=(800, 800), x_range=(xmin, xmax), y_range=(ymin, ymax), z_range=(zmin, zmax)\n",
    ")\n",
    "\n",
    "for idx, T_world_cam in enumerate(old_poses):\n",
    "    plot_transform(pcd_scene.figure, T_world_cam.cpu().numpy(), label=f\"old_{idx}\", linelength=0.1, linewidth=10)\n",
    "for idx, T_world_cam in enumerate(new_poses):\n",
    "    plot_transform(pcd_scene.figure, T_world_cam.cpu().numpy(), label=f\"new_{idx}\", linelength=0.1, linewidth=10)\n"
   ]
  }
 ],
 "metadata": {
  "kernelspec": {
   "display_name": "mast3r",
   "language": "python",
   "name": "python3"
  },
  "language_info": {
   "codemirror_mode": {
    "name": "ipython",
    "version": 3
   },
   "file_extension": ".py",
   "mimetype": "text/x-python",
   "name": "python",
   "nbconvert_exporter": "python",
   "pygments_lexer": "ipython3",
   "version": "3.11.11"
  }
 },
 "nbformat": 4,
 "nbformat_minor": 2
}
